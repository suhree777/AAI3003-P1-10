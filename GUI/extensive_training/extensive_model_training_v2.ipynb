{
 "cells": [
  {
   "cell_type": "code",
   "execution_count": 10,
   "metadata": {},
   "outputs": [
    {
     "name": "stderr",
     "output_type": "stream",
     "text": [
      "[nltk_data] Downloading package stopwords to\n",
      "[nltk_data]     C:\\Users\\Bryon\\AppData\\Roaming\\nltk_data...\n",
      "[nltk_data]   Package stopwords is already up-to-date!\n",
      "[nltk_data] Downloading package punkt to\n",
      "[nltk_data]     C:\\Users\\Bryon\\AppData\\Roaming\\nltk_data...\n",
      "[nltk_data]   Package punkt is already up-to-date!\n"
     ]
    },
    {
     "data": {
      "text/plain": [
       "True"
      ]
     },
     "execution_count": 10,
     "metadata": {},
     "output_type": "execute_result"
    }
   ],
   "source": [
    "# Importing necessary libraries\n",
    "import numpy as np        # For numerical operations\n",
    "import pandas as pd       # For data manipulation and analysis\n",
    "import matplotlib.pyplot as plt  # For data visualization\n",
    "%matplotlib inline\n",
    "\n",
    "# Importing WordCloud for text visualization\n",
    "from wordcloud import WordCloud\n",
    "\n",
    "# Importing NLTK for natural language processing\n",
    "import nltk\n",
    "from nltk.corpus import stopwords    # For stopwords\n",
    "\n",
    "\n",
    "# Downloading NLTK data\n",
    "nltk.download('stopwords')   # Downloading stopwords data\n",
    "nltk.download('punkt')       # Downloading tokenizer data"
   ]
  },
  {
   "cell_type": "code",
   "execution_count": 11,
   "metadata": {},
   "outputs": [
    {
     "name": "stderr",
     "output_type": "stream",
     "text": [
      "Repo card metadata block was not found. Setting CardData to empty.\n"
     ]
    },
    {
     "name": "stdout",
     "output_type": "stream",
     "text": [
      "   message_id                                               text  label  \\\n",
      "0       33214  any software just for 15 $ - 99 $ understandin...      1   \n",
      "1       11929  perspective on ferc regulatory action client c...      0   \n",
      "2       19784  wanted to try ci 4 lis but thought it was way ...      1   \n",
      "3        2209  enron / hpl actuals for december 11 , 2000 tec...      0   \n",
      "4       15880  looking for cheap high - quality software ? ro...      1   \n",
      "\n",
      "  label_text                                            subject  \\\n",
      "0       spam                  any software just for 15 $ - 99 $   \n",
      "1        ham  perspective on ferc regulatory action client c...   \n",
      "2       spam  wanted to try ci 4 lis but thought it was way ...   \n",
      "3        ham         enron / hpl actuals for december 11 , 2000   \n",
      "4       spam  looking for cheap high - quality software ? ro...   \n",
      "\n",
      "                                             message       date  \n",
      "0  understanding oem software\\nlead me not into t... 2005-06-18  \n",
      "1  19 th , 2 : 00 pm edt\\nperspective on ferc reg... 2001-06-19  \n",
      "2  viagra at $ 1 . 12 per dose\\nready to boost yo... 2004-09-11  \n",
      "3  teco tap 30 . 000 / enron ; 120 . 000 / hpl ga... 2000-12-12  \n",
      "4  water past also , burn , course . gave country... 2005-02-13  \n"
     ]
    }
   ],
   "source": [
    "from datasets import load_dataset\n",
    "import pandas as pd\n",
    "\n",
    "# Load the dataset from the Hugging Face library\n",
    "dataset = load_dataset('SetFit/enron_spam')\n",
    "\n",
    "# Convert the dataset to a DataFrame\n",
    "df = pd.DataFrame(dataset['train'])\n",
    "\n",
    "# Display the DataFrame\n",
    "print(df.head())\n"
   ]
  },
  {
   "cell_type": "code",
   "execution_count": null,
   "metadata": {},
   "outputs": [
    {
     "data": {
      "text/html": [
       "<style type=\"text/css\">\n",
       "#T_304b1 th {\n",
       "  color: black;\n",
       "  background-color: #FC0;\n",
       "}\n",
       "</style>\n",
       "<table id=\"T_304b1\">\n",
       "  <thead>\n",
       "    <tr>\n",
       "      <th class=\"blank level0\" >&nbsp;</th>\n",
       "      <th id=\"T_304b1_level0_col0\" class=\"col_heading level0 col0\" >message_id</th>\n",
       "      <th id=\"T_304b1_level0_col1\" class=\"col_heading level0 col1\" >text</th>\n",
       "      <th id=\"T_304b1_level0_col2\" class=\"col_heading level0 col2\" >label</th>\n",
       "      <th id=\"T_304b1_level0_col3\" class=\"col_heading level0 col3\" >label_text</th>\n",
       "      <th id=\"T_304b1_level0_col4\" class=\"col_heading level0 col4\" >subject</th>\n",
       "      <th id=\"T_304b1_level0_col5\" class=\"col_heading level0 col5\" >message</th>\n",
       "      <th id=\"T_304b1_level0_col6\" class=\"col_heading level0 col6\" >date</th>\n",
       "    </tr>\n",
       "  </thead>\n",
       "  <tbody>\n",
       "    <tr>\n",
       "      <th id=\"T_304b1_level0_row0\" class=\"row_heading level0 row0\" >0</th>\n",
       "      <td id=\"T_304b1_row0_col0\" class=\"data row0 col0\" >33214</td>\n",
       "      <td id=\"T_304b1_row0_col1\" class=\"data row0 col1\" >any software just for 15 $ - 99 $ understanding oem software\n",
       "lead me not into temptation ; i can find the way myself .\n",
       "# 3533 . the law disregards trifles .</td>\n",
       "      <td id=\"T_304b1_row0_col2\" class=\"data row0 col2\" >1</td>\n",
       "      <td id=\"T_304b1_row0_col3\" class=\"data row0 col3\" >spam</td>\n",
       "      <td id=\"T_304b1_row0_col4\" class=\"data row0 col4\" >any software just for 15 $ - 99 $</td>\n",
       "      <td id=\"T_304b1_row0_col5\" class=\"data row0 col5\" >understanding oem software\n",
       "lead me not into temptation ; i can find the way myself .\n",
       "# 3533 . the law disregards trifles .</td>\n",
       "      <td id=\"T_304b1_row0_col6\" class=\"data row0 col6\" >2005-06-18 00:00:00</td>\n",
       "    </tr>\n",
       "    <tr>\n",
       "      <th id=\"T_304b1_level0_row1\" class=\"row_heading level0 row1\" >1</th>\n",
       "      <td id=\"T_304b1_row1_col0\" class=\"data row1 col0\" >11929</td>\n",
       "      <td id=\"T_304b1_row1_col1\" class=\"data row1 col1\" >perspective on ferc regulatory action client conf call today , jun e 19 th , 2 : 00 pm edt\n",
       "perspective on ferc regulatory action client conference call\n",
       "today , tuesday , june 19 th\n",
       "2 : 00 pm edt\n",
       "host : ray niles , power / natural gas analyst\n",
       "speaker : steve bergstrom , president & coo of dynegy\n",
       "steve bergstrom , president and chief operating officer of dynegy , will join\n",
       "us at 2 : 00 p . m . today for a conference call discussion of the recent ferc\n",
       "action imposing price controls in the west . the discussion will be followed\n",
       "by q & a .\n",
       "questions to be explored include :\n",
       "what are the implications of the ferc action , for dyn and the industry as a\n",
       "whole ?\n",
       "what is the earnings impact ?\n",
       "what are the risks of further re - regulation ?\n",
       "and whatever else is on your minds\n",
       "we attach two recent notes on the ferc action for your reference .\n",
       "call in replay reservation\n",
       "800 - 229 - 0281 us 800 - 642 - 1687 us 1073259\n",
       "706 - 645 - 9237 int ' l 706 - 645 - 9291 int ' l\n",
       "replay until 6 / 22 , 11 : 59 pm\n",
       "raymond c . niles\n",
       "power / natural gas research\n",
       "salomon smith barney\n",
       "( 212 ) 816 - 2807\n",
       "ray . niles @ ssmb . com\n",
       "s</td>\n",
       "      <td id=\"T_304b1_row1_col2\" class=\"data row1 col2\" >0</td>\n",
       "      <td id=\"T_304b1_row1_col3\" class=\"data row1 col3\" >ham</td>\n",
       "      <td id=\"T_304b1_row1_col4\" class=\"data row1 col4\" >perspective on ferc regulatory action client conf call today , jun e</td>\n",
       "      <td id=\"T_304b1_row1_col5\" class=\"data row1 col5\" >19 th , 2 : 00 pm edt\n",
       "perspective on ferc regulatory action client conference call\n",
       "today , tuesday , june 19 th\n",
       "2 : 00 pm edt\n",
       "host : ray niles , power / natural gas analyst\n",
       "speaker : steve bergstrom , president & coo of dynegy\n",
       "steve bergstrom , president and chief operating officer of dynegy , will join\n",
       "us at 2 : 00 p . m . today for a conference call discussion of the recent ferc\n",
       "action imposing price controls in the west . the discussion will be followed\n",
       "by q & a .\n",
       "questions to be explored include :\n",
       "what are the implications of the ferc action , for dyn and the industry as a\n",
       "whole ?\n",
       "what is the earnings impact ?\n",
       "what are the risks of further re - regulation ?\n",
       "and whatever else is on your minds\n",
       "we attach two recent notes on the ferc action for your reference .\n",
       "call in replay reservation\n",
       "800 - 229 - 0281 us 800 - 642 - 1687 us 1073259\n",
       "706 - 645 - 9237 int ' l 706 - 645 - 9291 int ' l\n",
       "replay until 6 / 22 , 11 : 59 pm\n",
       "raymond c . niles\n",
       "power / natural gas research\n",
       "salomon smith barney\n",
       "( 212 ) 816 - 2807\n",
       "ray . niles @ ssmb . com\n",
       "s</td>\n",
       "      <td id=\"T_304b1_row1_col6\" class=\"data row1 col6\" >2001-06-19 00:00:00</td>\n",
       "    </tr>\n",
       "    <tr>\n",
       "      <th id=\"T_304b1_level0_row2\" class=\"row_heading level0 row2\" >2</th>\n",
       "      <td id=\"T_304b1_row2_col0\" class=\"data row2 col0\" >19784</td>\n",
       "      <td id=\"T_304b1_row2_col1\" class=\"data row2 col1\" >wanted to try ci 4 lis but thought it was way too expensive for you ? viagra at $ 1 . 12 per dose\n",
       "ready to boost your sex life ? positive ?\n",
       "time to do it right now . order viagra at incredibly low prices\n",
       "$ 1 . 12 per dose . unbelivable\n",
       "remove</td>\n",
       "      <td id=\"T_304b1_row2_col2\" class=\"data row2 col2\" >1</td>\n",
       "      <td id=\"T_304b1_row2_col3\" class=\"data row2 col3\" >spam</td>\n",
       "      <td id=\"T_304b1_row2_col4\" class=\"data row2 col4\" >wanted to try ci 4 lis but thought it was way too expensive for you ?</td>\n",
       "      <td id=\"T_304b1_row2_col5\" class=\"data row2 col5\" >viagra at $ 1 . 12 per dose\n",
       "ready to boost your sex life ? positive ?\n",
       "time to do it right now . order viagra at incredibly low prices\n",
       "$ 1 . 12 per dose . unbelivable\n",
       "remove\n",
       "</td>\n",
       "      <td id=\"T_304b1_row2_col6\" class=\"data row2 col6\" >2004-09-11 00:00:00</td>\n",
       "    </tr>\n",
       "    <tr>\n",
       "      <th id=\"T_304b1_level0_row3\" class=\"row_heading level0 row3\" >3</th>\n",
       "      <td id=\"T_304b1_row3_col0\" class=\"data row3 col0\" >2209</td>\n",
       "      <td id=\"T_304b1_row3_col1\" class=\"data row3 col1\" >enron / hpl actuals for december 11 , 2000 teco tap 30 . 000 / enron ; 120 . 000 / hpl gas daily\n",
       "ls hpl lsk ic 30 . 000 / enron</td>\n",
       "      <td id=\"T_304b1_row3_col2\" class=\"data row3 col2\" >0</td>\n",
       "      <td id=\"T_304b1_row3_col3\" class=\"data row3 col3\" >ham</td>\n",
       "      <td id=\"T_304b1_row3_col4\" class=\"data row3 col4\" >enron / hpl actuals for december 11 , 2000</td>\n",
       "      <td id=\"T_304b1_row3_col5\" class=\"data row3 col5\" >teco tap 30 . 000 / enron ; 120 . 000 / hpl gas daily\n",
       "ls hpl lsk ic 30 . 000 / enron</td>\n",
       "      <td id=\"T_304b1_row3_col6\" class=\"data row3 col6\" >2000-12-12 00:00:00</td>\n",
       "    </tr>\n",
       "    <tr>\n",
       "      <th id=\"T_304b1_level0_row4\" class=\"row_heading level0 row4\" >4</th>\n",
       "      <td id=\"T_304b1_row4_col0\" class=\"data row4 col0\" >15880</td>\n",
       "      <td id=\"T_304b1_row4_col1\" class=\"data row4 col1\" >looking for cheap high - quality software ? rotated napoleonizes water past also , burn , course . gave country , mass lot . act north\n",
       "good . from , learn form most brother vary . when more for . up\n",
       "stick , century put , song be . test , describe , plain , against wood\n",
       "star . began dress ever group . here oh , most world stay .</td>\n",
       "      <td id=\"T_304b1_row4_col2\" class=\"data row4 col2\" >1</td>\n",
       "      <td id=\"T_304b1_row4_col3\" class=\"data row4 col3\" >spam</td>\n",
       "      <td id=\"T_304b1_row4_col4\" class=\"data row4 col4\" >looking for cheap high - quality software ? rotated napoleonizes</td>\n",
       "      <td id=\"T_304b1_row4_col5\" class=\"data row4 col5\" >water past also , burn , course . gave country , mass lot . act north\n",
       "good . from , learn form most brother vary . when more for . up\n",
       "stick , century put , song be . test , describe , plain , against wood\n",
       "star . began dress ever group . here oh , most world stay .\n",
       "</td>\n",
       "      <td id=\"T_304b1_row4_col6\" class=\"data row4 col6\" >2005-02-13 00:00:00</td>\n",
       "    </tr>\n",
       "  </tbody>\n",
       "</table>\n"
      ],
      "text/plain": [
       "<pandas.io.formats.style.Styler at 0x23e3904e350>"
      ]
     },
     "execution_count": 7,
     "metadata": {},
     "output_type": "execute_result"
    }
   ],
   "source": [
    "styled_df = df.head()\n",
    "styled_df = styled_df.style.set_table_styles([\n",
    "    {\"selector\": \"th\", \"props\": [(\"color\", 'black'), (\"background-color\", \"#FC0\")]}\n",
    "])\n",
    "styled_df"
   ]
  },
  {
   "cell_type": "code",
   "execution_count": null,
   "metadata": {},
   "outputs": [
    {
     "name": "stdout",
     "output_type": "stream",
     "text": [
      "<class 'pandas.core.frame.DataFrame'>\n",
      "RangeIndex: 31716 entries, 0 to 31715\n",
      "Data columns (total 7 columns):\n",
      " #   Column      Non-Null Count  Dtype         \n",
      "---  ------      --------------  -----         \n",
      " 0   message_id  31716 non-null  int64         \n",
      " 1   text        31716 non-null  object        \n",
      " 2   label       31716 non-null  int64         \n",
      " 3   label_text  31716 non-null  object        \n",
      " 4   subject     31716 non-null  object        \n",
      " 5   message     31716 non-null  object        \n",
      " 6   date        31716 non-null  datetime64[ns]\n",
      "dtypes: datetime64[ns](1), int64(2), object(4)\n",
      "memory usage: 1.7+ MB\n"
     ]
    }
   ],
   "source": [
    "df.info()"
   ]
  },
  {
   "cell_type": "code",
   "execution_count": 12,
   "metadata": {},
   "outputs": [],
   "source": [
    "df.drop(columns = ['message_id', 'date'], inplace = True)"
   ]
  },
  {
   "cell_type": "code",
   "execution_count": 13,
   "metadata": {},
   "outputs": [],
   "source": [
    "from sklearn.preprocessing import LabelEncoder\n",
    "encoder = LabelEncoder()\n",
    "df['target'] = encoder.fit_transform(df['label'])"
   ]
  },
  {
   "cell_type": "code",
   "execution_count": 14,
   "metadata": {},
   "outputs": [
    {
     "data": {
      "text/html": [
       "<style type=\"text/css\">\n",
       "#T_925f7 th {\n",
       "  color: Black;\n",
       "  background-color: #FF00CC;\n",
       "  font-weight: bold;\n",
       "}\n",
       "</style>\n",
       "<table id=\"T_925f7\">\n",
       "  <thead>\n",
       "    <tr>\n",
       "      <th class=\"blank level0\" >&nbsp;</th>\n",
       "      <th id=\"T_925f7_level0_col0\" class=\"col_heading level0 col0\" >text</th>\n",
       "      <th id=\"T_925f7_level0_col1\" class=\"col_heading level0 col1\" >label</th>\n",
       "      <th id=\"T_925f7_level0_col2\" class=\"col_heading level0 col2\" >label_text</th>\n",
       "      <th id=\"T_925f7_level0_col3\" class=\"col_heading level0 col3\" >subject</th>\n",
       "      <th id=\"T_925f7_level0_col4\" class=\"col_heading level0 col4\" >message</th>\n",
       "      <th id=\"T_925f7_level0_col5\" class=\"col_heading level0 col5\" >target</th>\n",
       "    </tr>\n",
       "  </thead>\n",
       "  <tbody>\n",
       "    <tr>\n",
       "      <th id=\"T_925f7_level0_row0\" class=\"row_heading level0 row0\" >0</th>\n",
       "      <td id=\"T_925f7_row0_col0\" class=\"data row0 col0\" >any software just for 15 $ - 99 $ understanding oem software\n",
       "lead me not into temptation ; i can find the way myself .\n",
       "# 3533 . the law disregards trifles .</td>\n",
       "      <td id=\"T_925f7_row0_col1\" class=\"data row0 col1\" >1</td>\n",
       "      <td id=\"T_925f7_row0_col2\" class=\"data row0 col2\" >spam</td>\n",
       "      <td id=\"T_925f7_row0_col3\" class=\"data row0 col3\" >any software just for 15 $ - 99 $</td>\n",
       "      <td id=\"T_925f7_row0_col4\" class=\"data row0 col4\" >understanding oem software\n",
       "lead me not into temptation ; i can find the way myself .\n",
       "# 3533 . the law disregards trifles .</td>\n",
       "      <td id=\"T_925f7_row0_col5\" class=\"data row0 col5\" >1</td>\n",
       "    </tr>\n",
       "    <tr>\n",
       "      <th id=\"T_925f7_level0_row1\" class=\"row_heading level0 row1\" >1</th>\n",
       "      <td id=\"T_925f7_row1_col0\" class=\"data row1 col0\" >perspective on ferc regulatory action client conf call today , jun e 19 th , 2 : 00 pm edt\n",
       "perspective on ferc regulatory action client conference call\n",
       "today , tuesday , june 19 th\n",
       "2 : 00 pm edt\n",
       "host : ray niles , power / natural gas analyst\n",
       "speaker : steve bergstrom , president & coo of dynegy\n",
       "steve bergstrom , president and chief operating officer of dynegy , will join\n",
       "us at 2 : 00 p . m . today for a conference call discussion of the recent ferc\n",
       "action imposing price controls in the west . the discussion will be followed\n",
       "by q & a .\n",
       "questions to be explored include :\n",
       "what are the implications of the ferc action , for dyn and the industry as a\n",
       "whole ?\n",
       "what is the earnings impact ?\n",
       "what are the risks of further re - regulation ?\n",
       "and whatever else is on your minds\n",
       "we attach two recent notes on the ferc action for your reference .\n",
       "call in replay reservation\n",
       "800 - 229 - 0281 us 800 - 642 - 1687 us 1073259\n",
       "706 - 645 - 9237 int ' l 706 - 645 - 9291 int ' l\n",
       "replay until 6 / 22 , 11 : 59 pm\n",
       "raymond c . niles\n",
       "power / natural gas research\n",
       "salomon smith barney\n",
       "( 212 ) 816 - 2807\n",
       "ray . niles @ ssmb . com\n",
       "s</td>\n",
       "      <td id=\"T_925f7_row1_col1\" class=\"data row1 col1\" >0</td>\n",
       "      <td id=\"T_925f7_row1_col2\" class=\"data row1 col2\" >ham</td>\n",
       "      <td id=\"T_925f7_row1_col3\" class=\"data row1 col3\" >perspective on ferc regulatory action client conf call today , jun e</td>\n",
       "      <td id=\"T_925f7_row1_col4\" class=\"data row1 col4\" >19 th , 2 : 00 pm edt\n",
       "perspective on ferc regulatory action client conference call\n",
       "today , tuesday , june 19 th\n",
       "2 : 00 pm edt\n",
       "host : ray niles , power / natural gas analyst\n",
       "speaker : steve bergstrom , president & coo of dynegy\n",
       "steve bergstrom , president and chief operating officer of dynegy , will join\n",
       "us at 2 : 00 p . m . today for a conference call discussion of the recent ferc\n",
       "action imposing price controls in the west . the discussion will be followed\n",
       "by q & a .\n",
       "questions to be explored include :\n",
       "what are the implications of the ferc action , for dyn and the industry as a\n",
       "whole ?\n",
       "what is the earnings impact ?\n",
       "what are the risks of further re - regulation ?\n",
       "and whatever else is on your minds\n",
       "we attach two recent notes on the ferc action for your reference .\n",
       "call in replay reservation\n",
       "800 - 229 - 0281 us 800 - 642 - 1687 us 1073259\n",
       "706 - 645 - 9237 int ' l 706 - 645 - 9291 int ' l\n",
       "replay until 6 / 22 , 11 : 59 pm\n",
       "raymond c . niles\n",
       "power / natural gas research\n",
       "salomon smith barney\n",
       "( 212 ) 816 - 2807\n",
       "ray . niles @ ssmb . com\n",
       "s</td>\n",
       "      <td id=\"T_925f7_row1_col5\" class=\"data row1 col5\" >0</td>\n",
       "    </tr>\n",
       "    <tr>\n",
       "      <th id=\"T_925f7_level0_row2\" class=\"row_heading level0 row2\" >2</th>\n",
       "      <td id=\"T_925f7_row2_col0\" class=\"data row2 col0\" >wanted to try ci 4 lis but thought it was way too expensive for you ? viagra at $ 1 . 12 per dose\n",
       "ready to boost your sex life ? positive ?\n",
       "time to do it right now . order viagra at incredibly low prices\n",
       "$ 1 . 12 per dose . unbelivable\n",
       "remove</td>\n",
       "      <td id=\"T_925f7_row2_col1\" class=\"data row2 col1\" >1</td>\n",
       "      <td id=\"T_925f7_row2_col2\" class=\"data row2 col2\" >spam</td>\n",
       "      <td id=\"T_925f7_row2_col3\" class=\"data row2 col3\" >wanted to try ci 4 lis but thought it was way too expensive for you ?</td>\n",
       "      <td id=\"T_925f7_row2_col4\" class=\"data row2 col4\" >viagra at $ 1 . 12 per dose\n",
       "ready to boost your sex life ? positive ?\n",
       "time to do it right now . order viagra at incredibly low prices\n",
       "$ 1 . 12 per dose . unbelivable\n",
       "remove\n",
       "</td>\n",
       "      <td id=\"T_925f7_row2_col5\" class=\"data row2 col5\" >1</td>\n",
       "    </tr>\n",
       "    <tr>\n",
       "      <th id=\"T_925f7_level0_row3\" class=\"row_heading level0 row3\" >3</th>\n",
       "      <td id=\"T_925f7_row3_col0\" class=\"data row3 col0\" >enron / hpl actuals for december 11 , 2000 teco tap 30 . 000 / enron ; 120 . 000 / hpl gas daily\n",
       "ls hpl lsk ic 30 . 000 / enron</td>\n",
       "      <td id=\"T_925f7_row3_col1\" class=\"data row3 col1\" >0</td>\n",
       "      <td id=\"T_925f7_row3_col2\" class=\"data row3 col2\" >ham</td>\n",
       "      <td id=\"T_925f7_row3_col3\" class=\"data row3 col3\" >enron / hpl actuals for december 11 , 2000</td>\n",
       "      <td id=\"T_925f7_row3_col4\" class=\"data row3 col4\" >teco tap 30 . 000 / enron ; 120 . 000 / hpl gas daily\n",
       "ls hpl lsk ic 30 . 000 / enron</td>\n",
       "      <td id=\"T_925f7_row3_col5\" class=\"data row3 col5\" >0</td>\n",
       "    </tr>\n",
       "    <tr>\n",
       "      <th id=\"T_925f7_level0_row4\" class=\"row_heading level0 row4\" >4</th>\n",
       "      <td id=\"T_925f7_row4_col0\" class=\"data row4 col0\" >looking for cheap high - quality software ? rotated napoleonizes water past also , burn , course . gave country , mass lot . act north\n",
       "good . from , learn form most brother vary . when more for . up\n",
       "stick , century put , song be . test , describe , plain , against wood\n",
       "star . began dress ever group . here oh , most world stay .</td>\n",
       "      <td id=\"T_925f7_row4_col1\" class=\"data row4 col1\" >1</td>\n",
       "      <td id=\"T_925f7_row4_col2\" class=\"data row4 col2\" >spam</td>\n",
       "      <td id=\"T_925f7_row4_col3\" class=\"data row4 col3\" >looking for cheap high - quality software ? rotated napoleonizes</td>\n",
       "      <td id=\"T_925f7_row4_col4\" class=\"data row4 col4\" >water past also , burn , course . gave country , mass lot . act north\n",
       "good . from , learn form most brother vary . when more for . up\n",
       "stick , century put , song be . test , describe , plain , against wood\n",
       "star . began dress ever group . here oh , most world stay .\n",
       "</td>\n",
       "      <td id=\"T_925f7_row4_col5\" class=\"data row4 col5\" >1</td>\n",
       "    </tr>\n",
       "  </tbody>\n",
       "</table>\n"
      ],
      "text/plain": [
       "<pandas.io.formats.style.Styler at 0x204f574dc00>"
      ]
     },
     "execution_count": 14,
     "metadata": {},
     "output_type": "execute_result"
    }
   ],
   "source": [
    "styled_df = df.head().style\n",
    "\n",
    "\n",
    "# Modify the color and background color of the table headers (th)\n",
    "styled_df.set_table_styles([\n",
    "    {\"selector\": \"th\", \"props\": [(\"color\", 'Black'), (\"background-color\", \"#FF00CC\"), ('font-weight', 'bold')]}\n",
    "])"
   ]
  },
  {
   "cell_type": "code",
   "execution_count": 15,
   "metadata": {},
   "outputs": [
    {
     "data": {
      "text/plain": [
       "text          0\n",
       "label         0\n",
       "label_text    0\n",
       "subject       0\n",
       "message       0\n",
       "target        0\n",
       "dtype: int64"
      ]
     },
     "execution_count": 15,
     "metadata": {},
     "output_type": "execute_result"
    }
   ],
   "source": [
    "#checking missing values\n",
    "df.isnull().sum()"
   ]
  },
  {
   "cell_type": "code",
   "execution_count": 16,
   "metadata": {},
   "outputs": [
    {
     "data": {
      "text/plain": [
       "(31716, 6)"
      ]
     },
     "execution_count": 16,
     "metadata": {},
     "output_type": "execute_result"
    }
   ],
   "source": [
    "df.shape"
   ]
  },
  {
   "cell_type": "code",
   "execution_count": 17,
   "metadata": {},
   "outputs": [
    {
     "data": {
      "text/plain": [
       "2874"
      ]
     },
     "execution_count": 17,
     "metadata": {},
     "output_type": "execute_result"
    }
   ],
   "source": [
    "#check duplicate values\n",
    "df.duplicated().sum()"
   ]
  },
  {
   "cell_type": "code",
   "execution_count": 18,
   "metadata": {},
   "outputs": [
    {
     "data": {
      "text/plain": [
       "(28842, 6)"
      ]
     },
     "execution_count": 18,
     "metadata": {},
     "output_type": "execute_result"
    }
   ],
   "source": [
    "#remove Duplicate\n",
    "df = df.drop_duplicates(keep = 'first')\n",
    "df.shape"
   ]
  },
  {
   "cell_type": "code",
   "execution_count": null,
   "metadata": {},
   "outputs": [
    {
     "name": "stdout",
     "output_type": "stream",
     "text": [
      "percentage of 0 : 51.94508009153318\n",
      "percentage of 1 : 48.05491990846682\n"
     ]
    }
   ],
   "source": [
    "values = df['target'].value_counts()\n",
    "total = values.sum()\n",
    "\n",
    "percentage_0 = (values[0] /total) * 100\n",
    "percentage_1 = (values[1]/ total) *100\n",
    "\n",
    "print('percentage of 0 :' ,percentage_0)\n",
    "print('percentage of 1 :' ,percentage_1)"
   ]
  },
  {
   "cell_type": "code",
   "execution_count": null,
   "metadata": {},
   "outputs": [],
   "source": [
    "df['num_characters'] = df['text'].apply(len)\n",
    "df['num_words'] = df['text'].apply(lambda x: len(nltk.word_tokenize(x)))\n",
    "df['num_sentence'] = df['text'].apply(lambda x: len(nltk.sent_tokenize(x)))"
   ]
  },
  {
   "cell_type": "code",
   "execution_count": null,
   "metadata": {},
   "outputs": [
    {
     "data": {
      "text/html": [
       "<div>\n",
       "<style scoped>\n",
       "    .dataframe tbody tr th:only-of-type {\n",
       "        vertical-align: middle;\n",
       "    }\n",
       "\n",
       "    .dataframe tbody tr th {\n",
       "        vertical-align: top;\n",
       "    }\n",
       "\n",
       "    .dataframe thead th {\n",
       "        text-align: right;\n",
       "    }\n",
       "</style>\n",
       "<table border=\"1\" class=\"dataframe\">\n",
       "  <thead>\n",
       "    <tr style=\"text-align: right;\">\n",
       "      <th></th>\n",
       "      <th>num_characters</th>\n",
       "      <th>num_words</th>\n",
       "      <th>num_sentence</th>\n",
       "    </tr>\n",
       "  </thead>\n",
       "  <tbody>\n",
       "    <tr>\n",
       "      <th>count</th>\n",
       "      <td>14982.000000</td>\n",
       "      <td>14982.000000</td>\n",
       "      <td>14982.000000</td>\n",
       "    </tr>\n",
       "    <tr>\n",
       "      <th>mean</th>\n",
       "      <td>1632.403551</td>\n",
       "      <td>347.860299</td>\n",
       "      <td>18.928314</td>\n",
       "    </tr>\n",
       "    <tr>\n",
       "      <th>std</th>\n",
       "      <td>5429.279174</td>\n",
       "      <td>1082.535888</td>\n",
       "      <td>64.980483</td>\n",
       "    </tr>\n",
       "    <tr>\n",
       "      <th>min</th>\n",
       "      <td>3.000000</td>\n",
       "      <td>1.000000</td>\n",
       "      <td>1.000000</td>\n",
       "    </tr>\n",
       "    <tr>\n",
       "      <th>25%</th>\n",
       "      <td>342.000000</td>\n",
       "      <td>74.000000</td>\n",
       "      <td>4.000000</td>\n",
       "    </tr>\n",
       "    <tr>\n",
       "      <th>50%</th>\n",
       "      <td>791.000000</td>\n",
       "      <td>174.000000</td>\n",
       "      <td>9.000000</td>\n",
       "    </tr>\n",
       "    <tr>\n",
       "      <th>75%</th>\n",
       "      <td>1675.000000</td>\n",
       "      <td>368.000000</td>\n",
       "      <td>18.000000</td>\n",
       "    </tr>\n",
       "    <tr>\n",
       "      <th>max</th>\n",
       "      <td>228368.000000</td>\n",
       "      <td>45452.000000</td>\n",
       "      <td>2827.000000</td>\n",
       "    </tr>\n",
       "  </tbody>\n",
       "</table>\n",
       "</div>"
      ],
      "text/plain": [
       "       num_characters     num_words  num_sentence\n",
       "count    14982.000000  14982.000000  14982.000000\n",
       "mean      1632.403551    347.860299     18.928314\n",
       "std       5429.279174   1082.535888     64.980483\n",
       "min          3.000000      1.000000      1.000000\n",
       "25%        342.000000     74.000000      4.000000\n",
       "50%        791.000000    174.000000      9.000000\n",
       "75%       1675.000000    368.000000     18.000000\n",
       "max     228368.000000  45452.000000   2827.000000"
      ]
     },
     "execution_count": 18,
     "metadata": {},
     "output_type": "execute_result"
    }
   ],
   "source": [
    "#ham\n",
    "df[df['target'] == 0][['num_characters', 'num_words', 'num_sentence']].describe()"
   ]
  },
  {
   "cell_type": "code",
   "execution_count": null,
   "metadata": {},
   "outputs": [
    {
     "data": {
      "text/html": [
       "<div>\n",
       "<style scoped>\n",
       "    .dataframe tbody tr th:only-of-type {\n",
       "        vertical-align: middle;\n",
       "    }\n",
       "\n",
       "    .dataframe tbody tr th {\n",
       "        vertical-align: top;\n",
       "    }\n",
       "\n",
       "    .dataframe thead th {\n",
       "        text-align: right;\n",
       "    }\n",
       "</style>\n",
       "<table border=\"1\" class=\"dataframe\">\n",
       "  <thead>\n",
       "    <tr style=\"text-align: right;\">\n",
       "      <th></th>\n",
       "      <th>num_characters</th>\n",
       "      <th>num_words</th>\n",
       "      <th>num_sentence</th>\n",
       "    </tr>\n",
       "  </thead>\n",
       "  <tbody>\n",
       "    <tr>\n",
       "      <th>count</th>\n",
       "      <td>13860.000000</td>\n",
       "      <td>13860.000000</td>\n",
       "      <td>13860.000000</td>\n",
       "    </tr>\n",
       "    <tr>\n",
       "      <th>mean</th>\n",
       "      <td>1315.965440</td>\n",
       "      <td>262.778355</td>\n",
       "      <td>18.244228</td>\n",
       "    </tr>\n",
       "    <tr>\n",
       "      <th>std</th>\n",
       "      <td>1939.024958</td>\n",
       "      <td>384.662212</td>\n",
       "      <td>36.798796</td>\n",
       "    </tr>\n",
       "    <tr>\n",
       "      <th>min</th>\n",
       "      <td>0.000000</td>\n",
       "      <td>0.000000</td>\n",
       "      <td>0.000000</td>\n",
       "    </tr>\n",
       "    <tr>\n",
       "      <th>25%</th>\n",
       "      <td>348.000000</td>\n",
       "      <td>71.000000</td>\n",
       "      <td>5.000000</td>\n",
       "    </tr>\n",
       "    <tr>\n",
       "      <th>50%</th>\n",
       "      <td>649.000000</td>\n",
       "      <td>137.000000</td>\n",
       "      <td>10.000000</td>\n",
       "    </tr>\n",
       "    <tr>\n",
       "      <th>75%</th>\n",
       "      <td>1384.000000</td>\n",
       "      <td>277.000000</td>\n",
       "      <td>20.000000</td>\n",
       "    </tr>\n",
       "    <tr>\n",
       "      <th>max</th>\n",
       "      <td>28752.000000</td>\n",
       "      <td>8401.000000</td>\n",
       "      <td>1666.000000</td>\n",
       "    </tr>\n",
       "  </tbody>\n",
       "</table>\n",
       "</div>"
      ],
      "text/plain": [
       "       num_characters     num_words  num_sentence\n",
       "count    13860.000000  13860.000000  13860.000000\n",
       "mean      1315.965440    262.778355     18.244228\n",
       "std       1939.024958    384.662212     36.798796\n",
       "min          0.000000      0.000000      0.000000\n",
       "25%        348.000000     71.000000      5.000000\n",
       "50%        649.000000    137.000000     10.000000\n",
       "75%       1384.000000    277.000000     20.000000\n",
       "max      28752.000000   8401.000000   1666.000000"
      ]
     },
     "execution_count": 19,
     "metadata": {},
     "output_type": "execute_result"
    }
   ],
   "source": [
    "#spam\n",
    "df[df['target'] == 1][['num_characters', 'num_words', 'num_sentence']].describe()"
   ]
  },
  {
   "cell_type": "code",
   "execution_count": null,
   "metadata": {},
   "outputs": [
    {
     "data": {
      "image/png": "[encoded data removed]",
      "text/plain": [
       "<Figure size 1000x600 with 1 Axes>"
      ]
     },
     "metadata": {},
     "output_type": "display_data"
    }
   ],
   "source": [
    "import seaborn as sns\n",
    "import matplotlib.pyplot as plt\n",
    "\n",
    "# Create a figure and set the figure size\n",
    "plt.figure(figsize=(10, 6))\n",
    "\n",
    "# Plot the histogram for target 0 in blue\n",
    "sns.histplot(df[df['target'] == 0]['num_characters'], color='blue', label='Target 0', kde=True)\n",
    "\n",
    "# Plot the histogram for target 1 in red\n",
    "sns.histplot(df[df['target'] == 1]['num_characters'], color='red', label='Target 1', kde=True)\n",
    "\n",
    "# Add labels and a title\n",
    "plt.xlabel('Number of Characters', fontsize=14)\n",
    "plt.ylabel('Frequency', fontsize=14)\n",
    "plt.title('Distribution of Number of Characters by Target', fontsize=16, fontweight='bold')\n",
    "\n",
    "# Add a legend\n",
    "plt.legend()\n",
    "\n",
    "# Customize the appearance of the plot\n",
    "sns.set(style='whitegrid')  # Add a white grid background\n",
    "\n",
    "# Show the plot\n",
    "plt.show()\n"
   ]
  },
  {
   "cell_type": "code",
   "execution_count": 19,
   "metadata": {},
   "outputs": [],
   "source": [
    "# Importing the Porter Stemmer for text stemming\n",
    "from nltk.stem.porter import PorterStemmer\n",
    "\n",
    "# Importing the string module for handling special characters\n",
    "import string\n",
    "\n",
    "# Creating an instance of the Porter Stemmer\n",
    "ps = PorterStemmer()\n",
    "\n",
    "# Lowercase transformation and text preprocessing function\n",
    "def transform_text(text):\n",
    "    # Transform the text to lowercase\n",
    "    text = text.lower()\n",
    "    \n",
    "    # Tokenization using NLTK\n",
    "    text = nltk.word_tokenize(text)\n",
    "    \n",
    "    # Removing special characters\n",
    "    y = []\n",
    "    for i in text:\n",
    "        if i.isalnum():\n",
    "            y.append(i)\n",
    "            \n",
    "    # Removing stop words and punctuation\n",
    "    text = y[:]\n",
    "    y.clear()\n",
    "    \n",
    "    # Loop through the tokens and remove stopwords and punctuation\n",
    "    for i in text:\n",
    "        if i not in stopwords.words('english') and i not in string.punctuation:\n",
    "            y.append(i)\n",
    "        \n",
    "    # Stemming using Porter Stemmer\n",
    "    text = y[:]\n",
    "    y.clear()\n",
    "    for i in text:\n",
    "        y.append(ps.stem(i))\n",
    "    \n",
    "    # Join the processed tokens back into a single string\n",
    "    return \" \".join(y)"
   ]
  },
  {
   "cell_type": "code",
   "execution_count": 20,
   "metadata": {},
   "outputs": [
    {
     "data": {
      "text/html": [
       "<style type=\"text/css\">\n",
       "#T_6e197 th {\n",
       "  color: Black;\n",
       "  background-color: #FF00CC;\n",
       "  font-weight: bold;\n",
       "}\n",
       "</style>\n",
       "<table id=\"T_6e197\">\n",
       "  <thead>\n",
       "    <tr>\n",
       "      <th class=\"blank level0\" >&nbsp;</th>\n",
       "      <th id=\"T_6e197_level0_col0\" class=\"col_heading level0 col0\" >text</th>\n",
       "      <th id=\"T_6e197_level0_col1\" class=\"col_heading level0 col1\" >label</th>\n",
       "      <th id=\"T_6e197_level0_col2\" class=\"col_heading level0 col2\" >label_text</th>\n",
       "      <th id=\"T_6e197_level0_col3\" class=\"col_heading level0 col3\" >subject</th>\n",
       "      <th id=\"T_6e197_level0_col4\" class=\"col_heading level0 col4\" >message</th>\n",
       "      <th id=\"T_6e197_level0_col5\" class=\"col_heading level0 col5\" >target</th>\n",
       "      <th id=\"T_6e197_level0_col6\" class=\"col_heading level0 col6\" >transformed_text</th>\n",
       "    </tr>\n",
       "  </thead>\n",
       "  <tbody>\n",
       "    <tr>\n",
       "      <th id=\"T_6e197_level0_row0\" class=\"row_heading level0 row0\" >0</th>\n",
       "      <td id=\"T_6e197_row0_col0\" class=\"data row0 col0\" >any software just for 15 $ - 99 $ understanding oem software\n",
       "lead me not into temptation ; i can find the way myself .\n",
       "# 3533 . the law disregards trifles .</td>\n",
       "      <td id=\"T_6e197_row0_col1\" class=\"data row0 col1\" >1</td>\n",
       "      <td id=\"T_6e197_row0_col2\" class=\"data row0 col2\" >spam</td>\n",
       "      <td id=\"T_6e197_row0_col3\" class=\"data row0 col3\" >any software just for 15 $ - 99 $</td>\n",
       "      <td id=\"T_6e197_row0_col4\" class=\"data row0 col4\" >understanding oem software\n",
       "lead me not into temptation ; i can find the way myself .\n",
       "# 3533 . the law disregards trifles .</td>\n",
       "      <td id=\"T_6e197_row0_col5\" class=\"data row0 col5\" >1</td>\n",
       "      <td id=\"T_6e197_row0_col6\" class=\"data row0 col6\" >softwar 15 99 understand oem softwar lead temptat find way 3533 law disregard trifl</td>\n",
       "    </tr>\n",
       "    <tr>\n",
       "      <th id=\"T_6e197_level0_row1\" class=\"row_heading level0 row1\" >1</th>\n",
       "      <td id=\"T_6e197_row1_col0\" class=\"data row1 col0\" >perspective on ferc regulatory action client conf call today , jun e 19 th , 2 : 00 pm edt\n",
       "perspective on ferc regulatory action client conference call\n",
       "today , tuesday , june 19 th\n",
       "2 : 00 pm edt\n",
       "host : ray niles , power / natural gas analyst\n",
       "speaker : steve bergstrom , president & coo of dynegy\n",
       "steve bergstrom , president and chief operating officer of dynegy , will join\n",
       "us at 2 : 00 p . m . today for a conference call discussion of the recent ferc\n",
       "action imposing price controls in the west . the discussion will be followed\n",
       "by q & a .\n",
       "questions to be explored include :\n",
       "what are the implications of the ferc action , for dyn and the industry as a\n",
       "whole ?\n",
       "what is the earnings impact ?\n",
       "what are the risks of further re - regulation ?\n",
       "and whatever else is on your minds\n",
       "we attach two recent notes on the ferc action for your reference .\n",
       "call in replay reservation\n",
       "800 - 229 - 0281 us 800 - 642 - 1687 us 1073259\n",
       "706 - 645 - 9237 int ' l 706 - 645 - 9291 int ' l\n",
       "replay until 6 / 22 , 11 : 59 pm\n",
       "raymond c . niles\n",
       "power / natural gas research\n",
       "salomon smith barney\n",
       "( 212 ) 816 - 2807\n",
       "ray . niles @ ssmb . com\n",
       "s</td>\n",
       "      <td id=\"T_6e197_row1_col1\" class=\"data row1 col1\" >0</td>\n",
       "      <td id=\"T_6e197_row1_col2\" class=\"data row1 col2\" >ham</td>\n",
       "      <td id=\"T_6e197_row1_col3\" class=\"data row1 col3\" >perspective on ferc regulatory action client conf call today , jun e</td>\n",
       "      <td id=\"T_6e197_row1_col4\" class=\"data row1 col4\" >19 th , 2 : 00 pm edt\n",
       "perspective on ferc regulatory action client conference call\n",
       "today , tuesday , june 19 th\n",
       "2 : 00 pm edt\n",
       "host : ray niles , power / natural gas analyst\n",
       "speaker : steve bergstrom , president & coo of dynegy\n",
       "steve bergstrom , president and chief operating officer of dynegy , will join\n",
       "us at 2 : 00 p . m . today for a conference call discussion of the recent ferc\n",
       "action imposing price controls in the west . the discussion will be followed\n",
       "by q & a .\n",
       "questions to be explored include :\n",
       "what are the implications of the ferc action , for dyn and the industry as a\n",
       "whole ?\n",
       "what is the earnings impact ?\n",
       "what are the risks of further re - regulation ?\n",
       "and whatever else is on your minds\n",
       "we attach two recent notes on the ferc action for your reference .\n",
       "call in replay reservation\n",
       "800 - 229 - 0281 us 800 - 642 - 1687 us 1073259\n",
       "706 - 645 - 9237 int ' l 706 - 645 - 9291 int ' l\n",
       "replay until 6 / 22 , 11 : 59 pm\n",
       "raymond c . niles\n",
       "power / natural gas research\n",
       "salomon smith barney\n",
       "( 212 ) 816 - 2807\n",
       "ray . niles @ ssmb . com\n",
       "s</td>\n",
       "      <td id=\"T_6e197_row1_col5\" class=\"data row1 col5\" >0</td>\n",
       "      <td id=\"T_6e197_row1_col6\" class=\"data row1 col6\" >perspect ferc regulatori action client conf call today jun e 19 th 2 00 pm edt perspect ferc regulatori action client confer call today tuesday june 19 th 2 00 pm edt host ray nile power natur ga analyst speaker steve bergstrom presid coo dynegi steve bergstrom presid chief oper offic dynegi join us 2 00 p today confer call discuss recent ferc action impos price control west discuss follow q question explor includ implic ferc action dyn industri whole earn impact risk regul whatev els mind attach two recent note ferc action refer call replay reserv 800 229 0281 us 800 642 1687 us 1073259 706 645 9237 int l 706 645 9291 int l replay 6 22 11 59 pm raymond c nile power natur ga research salomon smith barney 212 816 2807 ray nile ssmb com</td>\n",
       "    </tr>\n",
       "    <tr>\n",
       "      <th id=\"T_6e197_level0_row2\" class=\"row_heading level0 row2\" >2</th>\n",
       "      <td id=\"T_6e197_row2_col0\" class=\"data row2 col0\" >wanted to try ci 4 lis but thought it was way too expensive for you ? viagra at $ 1 . 12 per dose\n",
       "ready to boost your sex life ? positive ?\n",
       "time to do it right now . order viagra at incredibly low prices\n",
       "$ 1 . 12 per dose . unbelivable\n",
       "remove</td>\n",
       "      <td id=\"T_6e197_row2_col1\" class=\"data row2 col1\" >1</td>\n",
       "      <td id=\"T_6e197_row2_col2\" class=\"data row2 col2\" >spam</td>\n",
       "      <td id=\"T_6e197_row2_col3\" class=\"data row2 col3\" >wanted to try ci 4 lis but thought it was way too expensive for you ?</td>\n",
       "      <td id=\"T_6e197_row2_col4\" class=\"data row2 col4\" >viagra at $ 1 . 12 per dose\n",
       "ready to boost your sex life ? positive ?\n",
       "time to do it right now . order viagra at incredibly low prices\n",
       "$ 1 . 12 per dose . unbelivable\n",
       "remove\n",
       "</td>\n",
       "      <td id=\"T_6e197_row2_col5\" class=\"data row2 col5\" >1</td>\n",
       "      <td id=\"T_6e197_row2_col6\" class=\"data row2 col6\" >want tri ci 4 li thought way expens viagra 1 12 per dose readi boost sex life posit time right order viagra incred low price 1 12 per dose unbeliv remov</td>\n",
       "    </tr>\n",
       "    <tr>\n",
       "      <th id=\"T_6e197_level0_row3\" class=\"row_heading level0 row3\" >3</th>\n",
       "      <td id=\"T_6e197_row3_col0\" class=\"data row3 col0\" >enron / hpl actuals for december 11 , 2000 teco tap 30 . 000 / enron ; 120 . 000 / hpl gas daily\n",
       "ls hpl lsk ic 30 . 000 / enron</td>\n",
       "      <td id=\"T_6e197_row3_col1\" class=\"data row3 col1\" >0</td>\n",
       "      <td id=\"T_6e197_row3_col2\" class=\"data row3 col2\" >ham</td>\n",
       "      <td id=\"T_6e197_row3_col3\" class=\"data row3 col3\" >enron / hpl actuals for december 11 , 2000</td>\n",
       "      <td id=\"T_6e197_row3_col4\" class=\"data row3 col4\" >teco tap 30 . 000 / enron ; 120 . 000 / hpl gas daily\n",
       "ls hpl lsk ic 30 . 000 / enron</td>\n",
       "      <td id=\"T_6e197_row3_col5\" class=\"data row3 col5\" >0</td>\n",
       "      <td id=\"T_6e197_row3_col6\" class=\"data row3 col6\" >enron hpl actual decemb 11 2000 teco tap 30 000 enron 120 000 hpl ga daili ls hpl lsk ic 30 000 enron</td>\n",
       "    </tr>\n",
       "    <tr>\n",
       "      <th id=\"T_6e197_level0_row4\" class=\"row_heading level0 row4\" >4</th>\n",
       "      <td id=\"T_6e197_row4_col0\" class=\"data row4 col0\" >looking for cheap high - quality software ? rotated napoleonizes water past also , burn , course . gave country , mass lot . act north\n",
       "good . from , learn form most brother vary . when more for . up\n",
       "stick , century put , song be . test , describe , plain , against wood\n",
       "star . began dress ever group . here oh , most world stay .</td>\n",
       "      <td id=\"T_6e197_row4_col1\" class=\"data row4 col1\" >1</td>\n",
       "      <td id=\"T_6e197_row4_col2\" class=\"data row4 col2\" >spam</td>\n",
       "      <td id=\"T_6e197_row4_col3\" class=\"data row4 col3\" >looking for cheap high - quality software ? rotated napoleonizes</td>\n",
       "      <td id=\"T_6e197_row4_col4\" class=\"data row4 col4\" >water past also , burn , course . gave country , mass lot . act north\n",
       "good . from , learn form most brother vary . when more for . up\n",
       "stick , century put , song be . test , describe , plain , against wood\n",
       "star . began dress ever group . here oh , most world stay .\n",
       "</td>\n",
       "      <td id=\"T_6e197_row4_col5\" class=\"data row4 col5\" >1</td>\n",
       "      <td id=\"T_6e197_row4_col6\" class=\"data row4 col6\" >look cheap high qualiti softwar rotat napoleon water past also burn cours gave countri mass lot act north good learn form brother vari stick centuri put song test describ plain wood star began dress ever group oh world stay</td>\n",
       "    </tr>\n",
       "  </tbody>\n",
       "</table>\n"
      ],
      "text/plain": [
       "<pandas.io.formats.style.Styler at 0x204c18d2080>"
      ]
     },
     "execution_count": 20,
     "metadata": {},
     "output_type": "execute_result"
    }
   ],
   "source": [
    "df['transformed_text'] = df['text'].apply(transform_text)\n",
    "styled_df = df.head(5).style\n",
    "\n",
    "# Save the results to a CSV file\n",
    "df.to_csv('transformed_cleaned_dataset.csv', index=False)\n",
    "\n",
    "# Modify the color and background color of the table headers (th)\n",
    "styled_df.set_table_styles([\n",
    "    {\"selector\": \"th\", \"props\": [(\"color\", 'Black'), (\"background-color\", \"#FF00CC\"), ('font-weight', 'bold')]}\n",
    "])"
   ]
  },
  {
   "cell_type": "code",
   "execution_count": 21,
   "metadata": {},
   "outputs": [
    {
     "ename": "NameError",
     "evalue": "name 'sns' is not defined",
     "output_type": "error",
     "traceback": [
      "\u001b[1;31m---------------------------------------------------------------------------\u001b[0m",
      "\u001b[1;31mNameError\u001b[0m                                 Traceback (most recent call last)",
      "Cell \u001b[1;32mIn[21], line 7\u001b[0m\n\u001b[0;32m      5\u001b[0m         spam_carpos\u001b[38;5;241m.\u001b[39mappend(word)\n\u001b[0;32m      6\u001b[0m filter_df \u001b[38;5;241m=\u001b[39m pd\u001b[38;5;241m.\u001b[39mDataFrame(Counter(spam_carpos)\u001b[38;5;241m.\u001b[39mmost_common(\u001b[38;5;241m30\u001b[39m))\n\u001b[1;32m----> 7\u001b[0m \u001b[43msns\u001b[49m\u001b[38;5;241m.\u001b[39mbarplot(data \u001b[38;5;241m=\u001b[39m filter_df, x \u001b[38;5;241m=\u001b[39m filter_df[\u001b[38;5;241m0\u001b[39m], y \u001b[38;5;241m=\u001b[39m filter_df[\u001b[38;5;241m1\u001b[39m], palette \u001b[38;5;241m=\u001b[39m \u001b[38;5;124m'\u001b[39m\u001b[38;5;124mbright\u001b[39m\u001b[38;5;124m'\u001b[39m)\n\u001b[0;32m      8\u001b[0m plt\u001b[38;5;241m.\u001b[39mxticks(rotation \u001b[38;5;241m=\u001b[39m \u001b[38;5;241m90\u001b[39m)\n\u001b[0;32m      9\u001b[0m plt\u001b[38;5;241m.\u001b[39mshow()\n",
      "\u001b[1;31mNameError\u001b[0m: name 'sns' is not defined"
     ]
    }
   ],
   "source": [
    "from collections import Counter\n",
    "spam_carpos = []\n",
    "for sentence in df[df['target'] == 1]['transformed_text'].tolist():\n",
    "    for word in sentence.split():\n",
    "        spam_carpos.append(word)\n",
    "filter_df = pd.DataFrame(Counter(spam_carpos).most_common(30))\n",
    "sns.barplot(data = filter_df, x = filter_df[0], y = filter_df[1], palette = 'bright')\n",
    "plt.xticks(rotation = 90)\n",
    "plt.show()"
   ]
  },
  {
   "cell_type": "code",
   "execution_count": null,
   "metadata": {},
   "outputs": [
    {
     "data": {
      "image/png": "[encoded data removed]",
      "text/plain": [
       "<Figure size 640x480 with 1 Axes>"
      ]
     },
     "metadata": {},
     "output_type": "display_data"
    }
   ],
   "source": [
    "ham_carpos = []\n",
    "for sentence in df[df['target'] == 0]['transformed_text'].tolist():\n",
    "    for word in sentence.split():\n",
    "        ham_carpos.append(word)\n",
    "filter_ham_df = pd.DataFrame(Counter(spam_carpos).most_common(30))\n",
    "sns.barplot(data = filter_ham_df, x = filter_ham_df[0], y = filter_ham_df[1], palette = 'cool')\n",
    "plt.xticks(rotation = 90)\n",
    "plt.show()"
   ]
  },
  {
   "cell_type": "code",
   "execution_count": 24,
   "metadata": {},
   "outputs": [
    {
     "name": "stdout",
     "output_type": "stream",
     "text": [
      "TfidfVectorizer(max_features=3000)\n"
     ]
    }
   ],
   "source": [
    "from sklearn.feature_extraction.text import CountVectorizer, TfidfVectorizer\n",
    "from sklearn.model_selection import train_test_split\n",
    "cv = CountVectorizer()\n",
    "tfid = TfidfVectorizer(max_features = 3000)\n",
    "print(tfid)"
   ]
  },
  {
   "cell_type": "code",
   "execution_count": 23,
   "metadata": {},
   "outputs": [],
   "source": [
    "import pickle\n",
    "\n",
    "X = tfid.fit_transform(df['transformed_text']).toarray()\n",
    "y = df['target'].values\n",
    "X_train, X_test , y_train, y_test = train_test_split(X,y,test_size = 0.20, random_state = 2)\n",
    "\n",
    "with open('tfid_vectorizer.pkl', 'wb') as file:\n",
    "    pickle.dump(tfid, file)"
   ]
  },
  {
   "cell_type": "code",
   "execution_count": null,
   "metadata": {},
   "outputs": [],
   "source": [
    "from sklearn.linear_model import LogisticRegression\n",
    "from sklearn.svm import SVC\n",
    "from sklearn.naive_bayes import MultinomialNB\n",
    "from sklearn.tree import DecisionTreeClassifier\n",
    "from sklearn.neighbors import KNeighborsClassifier\n",
    "from sklearn.ensemble import RandomForestClassifier\n",
    "from sklearn.ensemble import AdaBoostClassifier\n",
    "from sklearn.ensemble import BaggingClassifier\n",
    "from sklearn.ensemble import ExtraTreesClassifier\n",
    "from sklearn.ensemble import GradientBoostingClassifier\n",
    "from xgboost import XGBClassifier\n",
    "svc = SVC(kernel= \"sigmoid\", gamma  = 1.0)\n",
    "knc = KNeighborsClassifier()\n",
    "mnb = MultinomialNB()\n",
    "dtc = DecisionTreeClassifier(max_depth = 5)\n",
    "lrc = LogisticRegression(solver = 'liblinear', penalty = 'l1')\n",
    "rfc = RandomForestClassifier(n_estimators = 50, random_state = 2 )\n",
    "abc = AdaBoostClassifier(n_estimators = 50, random_state = 2)\n",
    "bc = BaggingClassifier(n_estimators = 50, random_state = 2)\n",
    "etc = ExtraTreesClassifier(n_estimators = 50, random_state = 2)\n",
    "gbdt = GradientBoostingClassifier(n_estimators = 50, random_state = 2)    \n",
    "xgb  = XGBClassifier(n_estimators = 50, random_state = 2)"
   ]
  },
  {
   "cell_type": "code",
   "execution_count": null,
   "metadata": {},
   "outputs": [
    {
     "ename": "NameError",
     "evalue": "name 'svc' is not defined",
     "output_type": "error",
     "traceback": [
      "\u001b[1;31m---------------------------------------------------------------------------\u001b[0m",
      "\u001b[1;31mNameError\u001b[0m                                 Traceback (most recent call last)",
      "Cell \u001b[1;32mIn[3], line 2\u001b[0m\n\u001b[0;32m      1\u001b[0m clfs \u001b[38;5;241m=\u001b[39m {\n\u001b[1;32m----> 2\u001b[0m     \u001b[38;5;124m'\u001b[39m\u001b[38;5;124mSVC\u001b[39m\u001b[38;5;124m'\u001b[39m: \u001b[43msvc\u001b[49m,\n\u001b[0;32m      3\u001b[0m     \u001b[38;5;124m'\u001b[39m\u001b[38;5;124mKNN\u001b[39m\u001b[38;5;124m'\u001b[39m: knc,\n\u001b[0;32m      4\u001b[0m     \u001b[38;5;124m'\u001b[39m\u001b[38;5;124mNB\u001b[39m\u001b[38;5;124m'\u001b[39m: mnb,\n\u001b[0;32m      5\u001b[0m     \u001b[38;5;124m'\u001b[39m\u001b[38;5;124mDT\u001b[39m\u001b[38;5;124m'\u001b[39m: dtc,\n\u001b[0;32m      6\u001b[0m     \u001b[38;5;124m'\u001b[39m\u001b[38;5;124mLR\u001b[39m\u001b[38;5;124m'\u001b[39m: lrc,\n\u001b[0;32m      7\u001b[0m     \u001b[38;5;124m'\u001b[39m\u001b[38;5;124mRF\u001b[39m\u001b[38;5;124m'\u001b[39m: rfc,\n\u001b[0;32m      8\u001b[0m     \u001b[38;5;124m'\u001b[39m\u001b[38;5;124mAdaboost\u001b[39m\u001b[38;5;124m'\u001b[39m: abc,\n\u001b[0;32m      9\u001b[0m     \u001b[38;5;124m'\u001b[39m\u001b[38;5;124mBgc\u001b[39m\u001b[38;5;124m'\u001b[39m: bc,\n\u001b[0;32m     10\u001b[0m     \u001b[38;5;124m'\u001b[39m\u001b[38;5;124mETC\u001b[39m\u001b[38;5;124m'\u001b[39m: etc,\n\u001b[0;32m     11\u001b[0m     \u001b[38;5;124m'\u001b[39m\u001b[38;5;124mGBDT\u001b[39m\u001b[38;5;124m'\u001b[39m: gbdt,\n\u001b[0;32m     12\u001b[0m     \u001b[38;5;124m'\u001b[39m\u001b[38;5;124mxgb\u001b[39m\u001b[38;5;124m'\u001b[39m: xgb\n\u001b[0;32m     13\u001b[0m }\n\u001b[0;32m     14\u001b[0m \u001b[38;5;28;01mfrom\u001b[39;00m \u001b[38;5;21;01msklearn\u001b[39;00m\u001b[38;5;21;01m.\u001b[39;00m\u001b[38;5;21;01mmetrics\u001b[39;00m \u001b[38;5;28;01mimport\u001b[39;00m accuracy_score, precision_score, recall_score, f1_score\n\u001b[0;32m     15\u001b[0m \u001b[38;5;28;01mimport\u001b[39;00m \u001b[38;5;21;01mpandas\u001b[39;00m \u001b[38;5;28;01mas\u001b[39;00m \u001b[38;5;21;01mpd\u001b[39;00m\n",
      "\u001b[1;31mNameError\u001b[0m: name 'svc' is not defined"
     ]
    }
   ],
   "source": [
    "clfs = {\n",
    "    'SVC': svc,\n",
    "    'KNN': knc,\n",
    "    'NB': mnb,\n",
    "    'DT': dtc,\n",
    "    'LR': lrc,\n",
    "    'RF': rfc,\n",
    "    'Adaboost': abc,\n",
    "    'Bgc': bc,\n",
    "    'ETC': etc,\n",
    "    'GBDT': gbdt,\n",
    "    'xgb': xgb\n",
    "}\n",
    "from sklearn.metrics import accuracy_score, precision_score, recall_score, f1_score\n",
    "import pandas as pd\n",
    "def train_classifier(clf, X_train, y_train, X_test, y_test):\n",
    "    clf.fit(X_train, y_train)\n",
    "    y_pred = clf.predict(X_test)\n",
    "    accuracy = accuracy_score(y_test, y_pred)\n",
    "    precision = precision_score(y_test, y_pred)\n",
    "    recall = recall_score(y_test, y_pred)\n",
    "    f1 = f1_score(y_test, y_pred)\n",
    "    return accuracy, precision, recall, f1\n"
   ]
  },
  {
   "cell_type": "code",
   "execution_count": null,
   "metadata": {},
   "outputs": [
    {
     "name": "stdout",
     "output_type": "stream",
     "text": [
      "   Classifier  Accuracy  Precision    Recall        F1\n",
      "0         SVC  0.986306   0.981248  0.990175  0.985691\n",
      "1         KNN  0.685387   0.602550  0.997453  0.751268\n",
      "2          NB  0.977812   0.973951  0.979622  0.976778\n",
      "3          DT  0.856648   0.773569  0.988355  0.867870\n",
      "4          LR  0.980933   0.972421  0.987991  0.980144\n",
      "5          RF  0.981453   0.976199  0.985080  0.980619\n",
      "6    Adaboost  0.952851   0.939943  0.962518  0.951097\n",
      "7         Bgc  0.969665   0.967988  0.968341  0.968164\n",
      "8         ETC  0.987173   0.986536  0.986536  0.986536\n",
      "9        GBDT  0.930664   0.883410  0.984352  0.931153\n",
      "10        xgb  0.974519   0.956156  0.991994  0.973745\n"
     ]
    }
   ],
   "source": [
    "import pickle\n",
    "results = []\n",
    "\n",
    "for name, clf in clfs.items():\n",
    "    current_accuracy, current_precision, current_recall, current_f1 = train_classifier(clf, X_train, y_train, X_test, y_test)\n",
    "    results.append({\n",
    "        'Classifier': name,\n",
    "        'Accuracy': current_accuracy,\n",
    "        'Precision': current_precision,\n",
    "        'Recall': current_recall,\n",
    "        'F1': current_f1\n",
    "    })\n",
    "    \n",
    "    # Save the trained model\n",
    "    with open(f'{name}_model.pkl', 'wb') as f:\n",
    "        pickle.dump(clf, f)\n",
    "\n",
    "# Convert results to a DataFrame\n",
    "results_df = pd.DataFrame(results)\n",
    "\n",
    "# Save the results to a CSV file\n",
    "results_df.to_csv('classification_metrics.csv', index=False)\n",
    "\n",
    "# Display the results DataFrame\n",
    "print(results_df)\n"
   ]
  }
 ],
 "metadata": {
  "kernelspec": {
   "display_name": "Python 3",
   "language": "python",
   "name": "python3"
  },
  "language_info": {
   "codemirror_mode": {
    "name": "ipython",
    "version": 3
   },
   "file_extension": ".py",
   "mimetype": "text/x-python",
   "name": "python",
   "nbconvert_exporter": "python",
   "pygments_lexer": "ipython3",
   "version": "3.10.11"
  }
 },
 "nbformat": 4,
 "nbformat_minor": 2
}
